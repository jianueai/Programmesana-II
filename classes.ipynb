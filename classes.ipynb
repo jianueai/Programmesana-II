{
 "cells": [
  {
   "cell_type": "code",
   "execution_count": null,
   "metadata": {},
   "outputs": [],
   "source": [
    "class Vehicle:\n",
    "\n",
    "    color = \"white\"\n",
    "\n",
    "    def __init__(self, name, max_speed, mileage, capacity):\n",
    "        self.name = name\n",
    "        self.max_speed = max_speed\n",
    "        self.mileage = mileage\n",
    "        self.capacity = capacity\n",
    "    def seating_capacity(self, capacity):\n",
    "        return f\"The seating capacity of a {self.name} is {capacity} passengers\"\n",
    "    def fare(self):\n",
    "        return self.capacity * 100\n",
    "\n",
    "class raiden(Vehicle):\n",
    "    def seating_capacity(self, capacity = 120):\n",
    "        return super().seating_capacity(capacity)\n",
    "    pass\n",
    "class miko(Vehicle):\n",
    "    pass\n",
    "\n",
    "bussy = raiden(\"School Volvo\",\"180\",\"12\")\n",
    "Yussy = miko(\"Audi Q5\",\"240\",\"18\")\n",
    "\n",
    "print(\"Color: \" + bussy.color + \" | Vehicle name: \" + bussy.name + \" | Speed: \" + bussy.max_speed + \" | mileage: \" + bussy.mileage)\n",
    "print(\"Color: \" + Yussy.color + \" | Vehicle name: \" + Yussy.name + \" | Speed: \" + Yussy.max_speed + \" | mileage: \" + Yussy.mileage)\n",
    "print(bussy.seating_capacity())\n"
   ]
  },
  {
   "cell_type": "code",
   "execution_count": 28,
   "metadata": {},
   "outputs": [
    {
     "name": "stdout",
     "output_type": "stream",
     "text": [
      "Total Bus fare is: 5000\n"
     ]
    }
   ],
   "source": [
    "class Vehicle:\n",
    "    def __init__(self, name, mileage, capacity):\n",
    "        self.name = name\n",
    "        self.mileage = mileage\n",
    "        self.capacity = capacity\n",
    "\n",
    "    def fare(self):\n",
    "        return self.capacity * 100\n",
    "\n",
    "class Bus(Vehicle):\n",
    "    def fare(self):\n",
    "        x = super().fare()\n",
    "        return x\n",
    "\n",
    "School_bus = Bus(\"School Volvo\", 12, 50)\n",
    "print(\"Total Bus fare is:\", School_bus.fare())"
   ]
  },
  {
   "cell_type": "code",
   "execution_count": 45,
   "metadata": {},
   "outputs": [
    {
     "name": "stdout",
     "output_type": "stream",
     "text": [
      "45.9\n"
     ]
    }
   ],
   "source": [
    "class biletes:\n",
    "    def __init__(self,cena,daudzums):\n",
    "        self.daudzums = daudzums\n",
    "        self.cena = cena\n",
    "    def kopeja_cena(self):\n",
    "        return self.daudzums * self.cena\n",
    "\n",
    "class skolenu_biletes(biletes):\n",
    "    def skolenu_atlaide(self):\n",
    "        summa = super().kopeja_cena() \n",
    "        summa =+ summa * 0.85\n",
    "        return summa\n",
    "\n",
    "class pensionaru_biletes(biletes):\n",
    "    def pensionaru_atlaide(self):\n",
    "        summa = super().kopeja_cena() \n",
    "        summa =+ summa * 0.85\n",
    "        return summa\n",
    "\n",
    "bill = biletes(6,9)\n",
    "skoleni = skolenu_biletes(6,9)\n",
    "opetnis = pensionaru_biletes(9,6)\n",
    "print(opetnis.pensionaru_atlaide())       \n"
   ]
  },
  {
   "cell_type": "code",
   "execution_count": null,
   "metadata": {},
   "outputs": [],
   "source": []
  }
 ],
 "metadata": {
  "kernelspec": {
   "display_name": "Python 3.9.12 ('base')",
   "language": "python",
   "name": "python3"
  },
  "language_info": {
   "codemirror_mode": {
    "name": "ipython",
    "version": 3
   },
   "file_extension": ".py",
   "mimetype": "text/x-python",
   "name": "python",
   "nbconvert_exporter": "python",
   "pygments_lexer": "ipython3",
   "version": "3.9.12"
  },
  "orig_nbformat": 4,
  "vscode": {
   "interpreter": {
    "hash": "7c9c4fa825a381e77f9ceb990c1fb898479f648aa3cc405da5bce0b604dbe153"
   }
  }
 },
 "nbformat": 4,
 "nbformat_minor": 2
}
